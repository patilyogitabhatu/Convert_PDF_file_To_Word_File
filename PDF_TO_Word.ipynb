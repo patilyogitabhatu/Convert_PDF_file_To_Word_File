{
 "cells": [
  {
   "cell_type": "code",
   "execution_count": 1,
   "id": "756526b4-0763-42d0-b539-a713c60c2ac2",
   "metadata": {},
   "outputs": [
    {
     "name": "stdout",
     "output_type": "stream",
     "text": [
      "PDF data extracted and saved to 'output_word_file.docx' with PDF formatting.\n"
     ]
    }
   ],
   "source": [
    "import PyPDF2\n",
    "from docx import Document\n",
    "\n",
    "def extract_text_from_pdf(file_path):\n",
    "    text = ''\n",
    "    with open(file_path, 'rb') as pdf_file:\n",
    "        pdf_reader = PyPDF2.PdfReader(pdf_file)\n",
    "        for page_num in range(len(pdf_reader.pages)):\n",
    "            text += pdf_reader.pages[page_num].extract_text()\n",
    "    return text\n",
    "\n",
    "def save_to_word(text, output_path):\n",
    "    doc = Document()\n",
    "    doc.add_paragraph(text)\n",
    "    doc.save(output_path)\n",
    "\n",
    "# Example usage\n",
    "pdf_file_path = 'YogitaResume.pdf'\n",
    "output_word_path = 'output_word_file.docx'\n",
    "\n",
    "extracted_text = extract_text_from_pdf(pdf_file_path)\n",
    "save_to_word(extracted_text, output_word_path)\n",
    "\n",
    "print(f\"PDF data extracted and saved to '{output_word_path}' with PDF formatting.\")\n"
   ]
  }
 ],
 "metadata": {
  "kernelspec": {
   "display_name": "Python 3 (ipykernel)",
   "language": "python",
   "name": "python3"
  },
  "language_info": {
   "codemirror_mode": {
    "name": "ipython",
    "version": 3
   },
   "file_extension": ".py",
   "mimetype": "text/x-python",
   "name": "python",
   "nbconvert_exporter": "python",
   "pygments_lexer": "ipython3",
   "version": "3.11.7"
  }
 },
 "nbformat": 4,
 "nbformat_minor": 5
}
